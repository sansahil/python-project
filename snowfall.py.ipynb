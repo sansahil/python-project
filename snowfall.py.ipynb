{
 "cells": [
  {
   "cell_type": "code",
   "execution_count": 1,
   "id": "01ff2e33",
   "metadata": {
    "scrolled": true
   },
   "outputs": [
    {
     "name": "stdout",
     "output_type": "stream",
     "text": [
      "pygame 2.5.2 (SDL 2.28.3, Python 3.11.5)\n",
      "Hello from the pygame community. https://www.pygame.org/contribute.html\n"
     ]
    }
   ],
   "source": [
    "import pygame\n",
    "import random\n",
    "\n",
    "# Initialize Pygame\n",
    "pygame.init()\n",
    "\n",
    "# Screen dimensions\n",
    "SCREEN_WIDTH = 800\n",
    "SCREEN_HEIGHT = 600\n",
    "\n",
    "# Colors\n",
    "BLACK = (0, 0, 0)\n",
    "WHITE = (255, 255, 255)\n",
    "\n",
    "# Snowflake class\n",
    "class Snowflake:\n",
    "    def __init__(self):\n",
    "        self.x = random.randint(0, SCREEN_WIDTH)\n",
    "        self.y = random.randint(-50, -10)\n",
    "        self.speed_y = random.randint(1, 5)\n",
    "        self.size = random.randint(2, 5)\n",
    "    \n",
    "    def fall(self):\n",
    "        self.y += self.speed_y\n",
    "        if self.y > SCREEN_HEIGHT:\n",
    "            self.y = random.randint(-50, -10)\n",
    "            self.x = random.randint(0, SCREEN_WIDTH)\n",
    "\n",
    "    def draw(self, screen):\n",
    "        pygame.draw.circle(screen, WHITE, (self.x, self.y), self.size)\n",
    "\n",
    "# Set up the display\n",
    "screen = pygame.display.set_mode((SCREEN_WIDTH, SCREEN_HEIGHT))\n",
    "pygame.display.set_caption(\"Snowfall Animation\")\n",
    "\n",
    "# Clock to control the frame rate\n",
    "clock = pygame.time.Clock()\n",
    "\n",
    "# Create a list of snowflakes\n",
    "snowflakes = [Snowflake() for _ in range(100)]\n",
    "\n",
    "# Main loop\n",
    "running = True\n",
    "while running:\n",
    "    for event in pygame.event.get():\n",
    "        if event.type == pygame.QUIT:\n",
    "            running = False\n",
    "\n",
    "    # Clear the screen\n",
    "    screen.fill(BLACK)\n",
    "\n",
    "    # Update and draw snowflakes\n",
    "    for snowflake in snowflakes:\n",
    "        snowflake.fall()\n",
    "        snowflake.draw(screen)\n",
    "\n",
    "    # Update the display\n",
    "    pygame.display.flip()\n",
    "\n",
    "    # Cap the frame rate\n",
    "    clock.tick(30)\n",
    "\n",
    "# Quit Pygame\n",
    "pygame.quit()\n"
   ]
  },
  {
   "cell_type": "code",
   "execution_count": null,
   "id": "4cddac45",
   "metadata": {},
   "outputs": [],
   "source": []
  }
 ],
 "metadata": {
  "kernelspec": {
   "display_name": "Python 3 (ipykernel)",
   "language": "python",
   "name": "python3"
  },
  "language_info": {
   "codemirror_mode": {
    "name": "ipython",
    "version": 3
   },
   "file_extension": ".py",
   "mimetype": "text/x-python",
   "name": "python",
   "nbconvert_exporter": "python",
   "pygments_lexer": "ipython3",
   "version": "3.11.5"
  }
 },
 "nbformat": 4,
 "nbformat_minor": 5
}
